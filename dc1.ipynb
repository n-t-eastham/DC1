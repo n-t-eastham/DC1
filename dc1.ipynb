{
 "cells": [
  {
   "cell_type": "markdown",
   "id": "48ced302-10d2-4ec8-9d62-42f4bb27ce52",
   "metadata": {},
   "source": [
    "# Data Challenge: Cargo Volume\n",
    "- We are tasked to predict cargo colume through San Francisco International Airport"
   ]
  },
  {
   "cell_type": "code",
   "execution_count": 1,
   "id": "a7b89fe1-b7ff-4987-a362-0cdb634fe528",
   "metadata": {},
   "outputs": [
    {
     "data": {
      "text/html": [
       "<div>\n",
       "<style scoped>\n",
       "    .dataframe tbody tr th:only-of-type {\n",
       "        vertical-align: middle;\n",
       "    }\n",
       "\n",
       "    .dataframe tbody tr th {\n",
       "        vertical-align: top;\n",
       "    }\n",
       "\n",
       "    .dataframe thead th {\n",
       "        text-align: right;\n",
       "    }\n",
       "</style>\n",
       "<table border=\"1\" class=\"dataframe\">\n",
       "  <thead>\n",
       "    <tr style=\"text-align: right;\">\n",
       "      <th></th>\n",
       "      <th>Activity Period</th>\n",
       "      <th>Operating Airline</th>\n",
       "      <th>Operating Airline IATA Code</th>\n",
       "      <th>Published Airline</th>\n",
       "      <th>Published Airline IATA Code</th>\n",
       "      <th>GEO Summary</th>\n",
       "      <th>GEO Region</th>\n",
       "      <th>Activity Type Code</th>\n",
       "      <th>Cargo Type Code</th>\n",
       "      <th>Cargo Aircraft Type</th>\n",
       "      <th>Cargo Metric TONS</th>\n",
       "    </tr>\n",
       "  </thead>\n",
       "  <tbody>\n",
       "    <tr>\n",
       "      <th>0</th>\n",
       "      <td>201601</td>\n",
       "      <td>Sun Country Airlines</td>\n",
       "      <td>SY</td>\n",
       "      <td>Sun Country Airlines</td>\n",
       "      <td>SY</td>\n",
       "      <td>Domestic</td>\n",
       "      <td>US</td>\n",
       "      <td>Enplaned</td>\n",
       "      <td>Cargo</td>\n",
       "      <td>Passenger</td>\n",
       "      <td>8.871509</td>\n",
       "    </tr>\n",
       "    <tr>\n",
       "      <th>1</th>\n",
       "      <td>200811</td>\n",
       "      <td>United Airlines</td>\n",
       "      <td>UA</td>\n",
       "      <td>United Airlines</td>\n",
       "      <td>UA</td>\n",
       "      <td>Domestic</td>\n",
       "      <td>US</td>\n",
       "      <td>Deplaned</td>\n",
       "      <td>Cargo</td>\n",
       "      <td>Passenger</td>\n",
       "      <td>53.946194</td>\n",
       "    </tr>\n",
       "    <tr>\n",
       "      <th>2</th>\n",
       "      <td>200709</td>\n",
       "      <td>Qantas Airways</td>\n",
       "      <td>QF</td>\n",
       "      <td>Qantas Airways</td>\n",
       "      <td>QF</td>\n",
       "      <td>International</td>\n",
       "      <td>Australia / Oceania</td>\n",
       "      <td>Deplaned</td>\n",
       "      <td>Express</td>\n",
       "      <td>Passenger</td>\n",
       "      <td>0.043999</td>\n",
       "    </tr>\n",
       "    <tr>\n",
       "      <th>3</th>\n",
       "      <td>201608</td>\n",
       "      <td>Philippine Airlines</td>\n",
       "      <td>PR</td>\n",
       "      <td>Philippine Airlines</td>\n",
       "      <td>PR</td>\n",
       "      <td>International</td>\n",
       "      <td>Asia</td>\n",
       "      <td>Deplaned</td>\n",
       "      <td>Mail</td>\n",
       "      <td>Passenger</td>\n",
       "      <td>19.023530</td>\n",
       "    </tr>\n",
       "    <tr>\n",
       "      <th>4</th>\n",
       "      <td>201708</td>\n",
       "      <td>Singapore Airlines</td>\n",
       "      <td>SQ</td>\n",
       "      <td>Singapore Airlines</td>\n",
       "      <td>SQ</td>\n",
       "      <td>International</td>\n",
       "      <td>Asia</td>\n",
       "      <td>Deplaned</td>\n",
       "      <td>Express</td>\n",
       "      <td>Passenger</td>\n",
       "      <td>6.951420</td>\n",
       "    </tr>\n",
       "  </tbody>\n",
       "</table>\n",
       "</div>"
      ],
      "text/plain": [
       "   Activity Period     Operating Airline Operating Airline IATA Code  \\\n",
       "0           201601  Sun Country Airlines                          SY   \n",
       "1           200811       United Airlines                          UA   \n",
       "2           200709        Qantas Airways                          QF   \n",
       "3           201608   Philippine Airlines                          PR   \n",
       "4           201708    Singapore Airlines                          SQ   \n",
       "\n",
       "      Published Airline Published Airline IATA Code    GEO Summary  \\\n",
       "0  Sun Country Airlines                          SY       Domestic   \n",
       "1       United Airlines                          UA       Domestic   \n",
       "2        Qantas Airways                          QF  International   \n",
       "3   Philippine Airlines                          PR  International   \n",
       "4    Singapore Airlines                          SQ  International   \n",
       "\n",
       "            GEO Region Activity Type Code Cargo Type Code Cargo Aircraft Type  \\\n",
       "0                   US           Enplaned           Cargo           Passenger   \n",
       "1                   US           Deplaned           Cargo           Passenger   \n",
       "2  Australia / Oceania           Deplaned         Express           Passenger   \n",
       "3                 Asia           Deplaned            Mail           Passenger   \n",
       "4                 Asia           Deplaned         Express           Passenger   \n",
       "\n",
       "   Cargo Metric TONS  \n",
       "0           8.871509  \n",
       "1          53.946194  \n",
       "2           0.043999  \n",
       "3          19.023530  \n",
       "4           6.951420  "
      ]
     },
     "execution_count": 1,
     "metadata": {},
     "output_type": "execute_result"
    }
   ],
   "source": [
    "import pandas as pd\n",
    "\n",
    "train_df = pd.read_csv('Cargo Volume - Train.csv')\n",
    "test_df = pd.read_csv('Cargo Volume - Test.csv')\n",
    "train_df.head()"
   ]
  },
  {
   "cell_type": "code",
   "execution_count": 2,
   "id": "8ede1bc4-f4cd-4757-9a67-0f54380dbf69",
   "metadata": {},
   "outputs": [
    {
     "name": "stdout",
     "output_type": "stream",
     "text": [
      "<class 'pandas.core.frame.DataFrame'>\n",
      "RangeIndex: 27230 entries, 0 to 27229\n",
      "Data columns (total 11 columns):\n",
      " #   Column                       Non-Null Count  Dtype  \n",
      "---  ------                       --------------  -----  \n",
      " 0   Activity Period              27230 non-null  int64  \n",
      " 1   Operating Airline            27230 non-null  object \n",
      " 2   Operating Airline IATA Code  27199 non-null  object \n",
      " 3   Published Airline            27230 non-null  object \n",
      " 4   Published Airline IATA Code  27199 non-null  object \n",
      " 5   GEO Summary                  27230 non-null  object \n",
      " 6   GEO Region                   27230 non-null  object \n",
      " 7   Activity Type Code           27230 non-null  object \n",
      " 8   Cargo Type Code              27230 non-null  object \n",
      " 9   Cargo Aircraft Type          27230 non-null  object \n",
      " 10  Cargo Metric TONS            27230 non-null  float64\n",
      "dtypes: float64(1), int64(1), object(9)\n",
      "memory usage: 2.3+ MB\n"
     ]
    }
   ],
   "source": [
    "train_df.info()"
   ]
  },
  {
   "cell_type": "code",
   "execution_count": 3,
   "id": "552c8926-99dd-459e-a72b-da5bf000c4d3",
   "metadata": {},
   "outputs": [
    {
     "name": "stdout",
     "output_type": "stream",
     "text": [
      "<class 'pandas.core.frame.DataFrame'>\n",
      "RangeIndex: 6807 entries, 0 to 6806\n",
      "Data columns (total 10 columns):\n",
      " #   Column                       Non-Null Count  Dtype \n",
      "---  ------                       --------------  ----- \n",
      " 0   Activity Period              6807 non-null   int64 \n",
      " 1   Operating Airline            6807 non-null   object\n",
      " 2   Operating Airline IATA Code  6793 non-null   object\n",
      " 3   Published Airline            6807 non-null   object\n",
      " 4   Published Airline IATA Code  6793 non-null   object\n",
      " 5   GEO Summary                  6807 non-null   object\n",
      " 6   GEO Region                   6807 non-null   object\n",
      " 7   Activity Type Code           6807 non-null   object\n",
      " 8   Cargo Type Code              6807 non-null   object\n",
      " 9   Cargo Aircraft Type          6807 non-null   object\n",
      "dtypes: int64(1), object(9)\n",
      "memory usage: 531.9+ KB\n"
     ]
    }
   ],
   "source": [
    "test_df.info()"
   ]
  },
  {
   "cell_type": "markdown",
   "id": "78ea7477-7be1-4cd3-914f-baac63200203",
   "metadata": {},
   "source": [
    "# Data Analysis\n",
    "- We can see the majority of our dataset consists of Categorical data thus some type of encoding must take place.\n",
    "- It should also be noted that the column 'Activity Period' is in a format that will eventually involve some Feature Engineering.\n",
    "- From the project spec we expected the target column 'Cargo Metric TONS' to be missing from our test data set."
   ]
  },
  {
   "cell_type": "code",
   "execution_count": 4,
   "id": "569a5d41-dfef-4976-9502-e1ad85bb1de0",
   "metadata": {},
   "outputs": [
    {
     "data": {
      "text/plain": [
       "Activity Period                 0\n",
       "Operating Airline               0\n",
       "Operating Airline IATA Code    31\n",
       "Published Airline               0\n",
       "Published Airline IATA Code    31\n",
       "GEO Summary                     0\n",
       "GEO Region                      0\n",
       "Activity Type Code              0\n",
       "Cargo Type Code                 0\n",
       "Cargo Aircraft Type             0\n",
       "Cargo Metric TONS               0\n",
       "dtype: int64"
      ]
     },
     "execution_count": 4,
     "metadata": {},
     "output_type": "execute_result"
    }
   ],
   "source": [
    "train_df.isna().sum()"
   ]
  },
  {
   "cell_type": "code",
   "execution_count": 5,
   "id": "6732bd3b-9a9c-4ed9-bffd-6b7ce8e9d004",
   "metadata": {},
   "outputs": [],
   "source": [
    "train_df = train_df.dropna()"
   ]
  },
  {
   "cell_type": "code",
   "execution_count": 6,
   "id": "b8ffd68d-490b-4516-b964-7b5707e6b331",
   "metadata": {},
   "outputs": [
    {
     "data": {
      "text/plain": [
       "Activity Period                 0\n",
       "Operating Airline               0\n",
       "Operating Airline IATA Code    14\n",
       "Published Airline               0\n",
       "Published Airline IATA Code    14\n",
       "GEO Summary                     0\n",
       "GEO Region                      0\n",
       "Activity Type Code              0\n",
       "Cargo Type Code                 0\n",
       "Cargo Aircraft Type             0\n",
       "dtype: int64"
      ]
     },
     "execution_count": 6,
     "metadata": {},
     "output_type": "execute_result"
    }
   ],
   "source": [
    "test_df.isna().sum()"
   ]
  },
  {
   "cell_type": "code",
   "execution_count": 7,
   "id": "a0e71e29-024a-499f-a4a2-cc9dd3a0a2d0",
   "metadata": {},
   "outputs": [],
   "source": [
    "test_df = test_df.dropna()"
   ]
  },
  {
   "cell_type": "code",
   "execution_count": 8,
   "id": "c5988626-e73e-48fd-b84c-82877fb95706",
   "metadata": {},
   "outputs": [
    {
     "data": {
      "text/html": [
       "<div>\n",
       "<style scoped>\n",
       "    .dataframe tbody tr th:only-of-type {\n",
       "        vertical-align: middle;\n",
       "    }\n",
       "\n",
       "    .dataframe tbody tr th {\n",
       "        vertical-align: top;\n",
       "    }\n",
       "\n",
       "    .dataframe thead th {\n",
       "        text-align: right;\n",
       "    }\n",
       "</style>\n",
       "<table border=\"1\" class=\"dataframe\">\n",
       "  <thead>\n",
       "    <tr style=\"text-align: right;\">\n",
       "      <th></th>\n",
       "      <th>Operating Airline</th>\n",
       "      <th>Operating Airline IATA Code</th>\n",
       "      <th>Published Airline</th>\n",
       "      <th>Published Airline IATA Code</th>\n",
       "      <th>GEO Summary</th>\n",
       "      <th>GEO Region</th>\n",
       "      <th>Activity Type Code</th>\n",
       "      <th>Cargo Type Code</th>\n",
       "      <th>Cargo Aircraft Type</th>\n",
       "    </tr>\n",
       "  </thead>\n",
       "  <tbody>\n",
       "    <tr>\n",
       "      <th>count</th>\n",
       "      <td>27199</td>\n",
       "      <td>27199</td>\n",
       "      <td>27199</td>\n",
       "      <td>27199</td>\n",
       "      <td>27199</td>\n",
       "      <td>27199</td>\n",
       "      <td>27199</td>\n",
       "      <td>27199</td>\n",
       "      <td>27199</td>\n",
       "    </tr>\n",
       "    <tr>\n",
       "      <th>unique</th>\n",
       "      <td>89</td>\n",
       "      <td>87</td>\n",
       "      <td>82</td>\n",
       "      <td>80</td>\n",
       "      <td>2</td>\n",
       "      <td>9</td>\n",
       "      <td>2</td>\n",
       "      <td>3</td>\n",
       "      <td>3</td>\n",
       "    </tr>\n",
       "    <tr>\n",
       "      <th>top</th>\n",
       "      <td>United Airlines</td>\n",
       "      <td>UA</td>\n",
       "      <td>United Airlines</td>\n",
       "      <td>UA</td>\n",
       "      <td>International</td>\n",
       "      <td>Asia</td>\n",
       "      <td>Deplaned</td>\n",
       "      <td>Cargo</td>\n",
       "      <td>Passenger</td>\n",
       "    </tr>\n",
       "    <tr>\n",
       "      <th>freq</th>\n",
       "      <td>2551</td>\n",
       "      <td>4565</td>\n",
       "      <td>2557</td>\n",
       "      <td>4578</td>\n",
       "      <td>19849</td>\n",
       "      <td>10077</td>\n",
       "      <td>13916</td>\n",
       "      <td>14877</td>\n",
       "      <td>22677</td>\n",
       "    </tr>\n",
       "  </tbody>\n",
       "</table>\n",
       "</div>"
      ],
      "text/plain": [
       "       Operating Airline Operating Airline IATA Code Published Airline  \\\n",
       "count              27199                       27199             27199   \n",
       "unique                89                          87                82   \n",
       "top      United Airlines                          UA   United Airlines   \n",
       "freq                2551                        4565              2557   \n",
       "\n",
       "       Published Airline IATA Code    GEO Summary GEO Region  \\\n",
       "count                        27199          27199      27199   \n",
       "unique                          80              2          9   \n",
       "top                             UA  International       Asia   \n",
       "freq                          4578          19849      10077   \n",
       "\n",
       "       Activity Type Code Cargo Type Code Cargo Aircraft Type  \n",
       "count               27199           27199               27199  \n",
       "unique                  2               3                   3  \n",
       "top              Deplaned           Cargo           Passenger  \n",
       "freq                13916           14877               22677  "
      ]
     },
     "execution_count": 8,
     "metadata": {},
     "output_type": "execute_result"
    }
   ],
   "source": [
    "train_df.describe(include='object')"
   ]
  },
  {
   "cell_type": "code",
   "execution_count": 9,
   "id": "9d2db357-5ec1-4a83-9ac2-4d4277fb1490",
   "metadata": {},
   "outputs": [
    {
     "data": {
      "text/plain": [
       "Activity Period                  186\n",
       "Operating Airline                 89\n",
       "Operating Airline IATA Code       87\n",
       "Published Airline                 82\n",
       "Published Airline IATA Code       80\n",
       "GEO Summary                        2\n",
       "GEO Region                         9\n",
       "Activity Type Code                 2\n",
       "Cargo Type Code                    3\n",
       "Cargo Aircraft Type                3\n",
       "Cargo Metric TONS              24872\n",
       "dtype: int64"
      ]
     },
     "execution_count": 9,
     "metadata": {},
     "output_type": "execute_result"
    }
   ],
   "source": [
    "train_df.nunique()"
   ]
  },
  {
   "cell_type": "markdown",
   "id": "9c3194dd-9f4b-4667-b1ff-a677fca7431c",
   "metadata": {},
   "source": [
    "# Feature Engineering: Activity Period\n",
    "- There are monthly rhythms for all air travel, thus it would benefit us to utilize this data.\n",
    "- Sliceing the yyyymm formate into separate columns should increase model accuracy.\n",
    "- We need to remember to implement these transformations on our test dataframe."
   ]
  },
  {
   "cell_type": "code",
   "execution_count": 10,
   "id": "f20bb973-3ca1-42cb-a0af-0db0d2cef8a7",
   "metadata": {},
   "outputs": [
    {
     "data": {
      "text/plain": [
       "Index(['Activity Period', 'Operating Airline', 'Operating Airline IATA Code',\n",
       "       'Published Airline', 'Published Airline IATA Code', 'GEO Summary',\n",
       "       'GEO Region', 'Activity Type Code', 'Cargo Type Code',\n",
       "       'Cargo Aircraft Type', 'Cargo Metric TONS', 'Year', 'Month'],\n",
       "      dtype='object')"
      ]
     },
     "execution_count": 10,
     "metadata": {},
     "output_type": "execute_result"
    }
   ],
   "source": [
    "train_df['Year'] = train_df['Activity Period'].astype(str).str.slice(0, 4).astype(int)\n",
    "train_df['Month'] = train_df['Activity Period'].astype(str).str.slice(4, 6).astype(int)\n",
    "\n",
    "train_df.columns"
   ]
  },
  {
   "cell_type": "code",
   "execution_count": 11,
   "id": "8f158e1e-180e-4a26-9129-ac2ddda53cdf",
   "metadata": {},
   "outputs": [
    {
     "data": {
      "text/plain": [
       "Index(['Activity Period', 'Operating Airline', 'Operating Airline IATA Code',\n",
       "       'Published Airline', 'Published Airline IATA Code', 'GEO Summary',\n",
       "       'GEO Region', 'Activity Type Code', 'Cargo Type Code',\n",
       "       'Cargo Aircraft Type', 'Year', 'Month'],\n",
       "      dtype='object')"
      ]
     },
     "execution_count": 11,
     "metadata": {},
     "output_type": "execute_result"
    }
   ],
   "source": [
    "test_df['Year'] = test_df['Activity Period'].astype(str).str.slice(0, 4).astype(int)\n",
    "test_df['Month'] = test_df['Activity Period'].astype(str).str.slice(4, 6).astype(int)\n",
    "\n",
    "test_df.columns"
   ]
  },
  {
   "cell_type": "markdown",
   "id": "22ce4805-a1eb-4477-8939-b82e6a28dc81",
   "metadata": {},
   "source": [
    "# Feature Selection\n",
    "- Since our values are nominal, label encoding would not be an ideal way to encode our data.\n",
    "- The usual way to encode nominal variables is with a one-hot-encoding.\n",
    "- However, the columns with large amounts of unique values could introduce the curse of dimensionality.\n",
    "- Because of this I'd like to eliminate redundacy"
   ]
  },
  {
   "cell_type": "code",
   "execution_count": 12,
   "id": "92eb0f60-7ef5-40c0-8b69-d428240ad1b8",
   "metadata": {},
   "outputs": [
    {
     "name": "stdout",
     "output_type": "stream",
     "text": [
      "['Sun Country Airlines' 'United Airlines' 'Qantas Airways'\n",
      " 'Philippine Airlines' 'Singapore Airlines' 'Nippon Cargo Airlines'\n",
      " 'Lufthansa German Airlines' 'COPA Airlines, Inc.' 'Alaska Airlines'\n",
      " 'Asiana Airlines' 'Cathay Pacific' 'Korean Air Lines'\n",
      " 'All Nippon Airways' 'Southwest Airlines' 'Air France' 'EVA Airways'\n",
      " 'United Airlines - Pre 07/01/2013' 'Northwest Airlines (became Delta)'\n",
      " 'Aer Lingus' 'TACA International Airlines, S.A.' 'China Southern'\n",
      " 'Air New Zealand' 'Air China' 'SAS Airlines' 'China Eastern'\n",
      " 'Frontier Airlines' 'Horizon Air' 'Emirates' 'JetBlue Airways'\n",
      " 'Kalitta Air' 'Japan Airlines' 'Delta Air Lines' 'French Bee'\n",
      " 'Air Canada' 'Southern Air' 'Compass Airlines' 'British Airways'\n",
      " 'Redding Aero Enterprises' 'Swiss International' 'Etihad Airways'\n",
      " 'KLM Royal Dutch Airlines' 'China Airlines' 'Hawaiian Airlines'\n",
      " 'US Airways' 'American Airlines' 'Virgin Atlantic' 'Federal Express'\n",
      " 'Ameriflight' 'SkyWest Airlines' 'LAN Peru' 'Midwest Airlines' 'ABX Air'\n",
      " 'Air India Limited' 'Tradewinds Airlines' 'Icelandair (Inactive)'\n",
      " 'Air Berlin' 'Iberia' 'ATA Airlines' 'Norwegian Air Shuttle ASA'\n",
      " 'Air Pacific Limited dba Fiji Airways' 'Atlas Air, Inc' 'Astar Air Cargo'\n",
      " 'Turkish Airlines' 'China Cargo Airlines'\n",
      " 'Air Transport International, Inc.' 'Cargolux Airlines'\n",
      " 'Kitty Hawk Air Cargo' 'Air Cargo Carriers' 'Norwegian Air UK Ltd'\n",
      " 'Icelandair EHF' 'Thomas Cook Airlines' 'Hong Kong Airlines Limited'\n",
      " 'American Eagle Airlines' 'Finnair' 'TAP Air Portugal' 'WOW Air'\n",
      " 'United Parcel Service CO' 'World Airways' 'Jet Airways'\n",
      " 'Evergreen International Airlines' 'Air Italy S.P.A' 'Republic Airlines'\n",
      " 'El Al Israel Airlines LTD.' 'Virgin America' 'Air Canada Jazz'\n",
      " 'Aeromexico' 'Mesa Airlines' 'Qatar Airways' 'Mesaba Airlines']\n",
      "\n",
      "['Sun Country Airlines' 'United Airlines' 'Qantas Airways'\n",
      " 'Philippine Airlines' 'Singapore Airlines' 'Nippon Cargo Airlines'\n",
      " 'Lufthansa German Airlines' 'COPA Airlines, Inc.' 'Alaska Airlines'\n",
      " 'Asiana Airlines' 'Cathay Pacific' 'Korean Air Lines'\n",
      " 'All Nippon Airways' 'Southwest Airlines' 'Air France' 'EVA Airways'\n",
      " 'United Airlines - Pre 07/01/2013' 'Northwest Airlines (became Delta)'\n",
      " 'Aer Lingus' 'TACA International Airlines, S.A.' 'China Southern'\n",
      " 'Air New Zealand' 'Air China' 'SAS Airlines' 'China Eastern'\n",
      " 'Frontier Airlines' 'Emirates' 'JetBlue Airways' 'Kalitta Air'\n",
      " 'Japan Airlines' 'Delta Air Lines' 'French Bee' 'Air Canada'\n",
      " 'Southern Air' 'American Airlines' 'British Airways'\n",
      " 'Redding Aero Enterprises' 'Swiss International' 'Etihad Airways'\n",
      " 'KLM Royal Dutch Airlines' 'China Airlines' 'Hawaiian Airlines'\n",
      " 'US Airways' 'Virgin Atlantic' 'Federal Express' 'Ameriflight' 'LAN Peru'\n",
      " 'Midwest Airlines' 'ABX Air' 'Air India Limited' 'Tradewinds Airlines'\n",
      " 'Icelandair (Inactive)' 'Air Berlin' 'Iberia' 'ATA Airlines'\n",
      " 'Norwegian Air Shuttle ASA' 'Air Pacific Limited dba Fiji Airways'\n",
      " 'Atlas Air, Inc' 'Astar Air Cargo' 'Turkish Airlines'\n",
      " 'China Cargo Airlines' 'Air Transport International, Inc.'\n",
      " 'Cargolux Airlines' 'Kitty Hawk Air Cargo' 'Air Cargo Carriers'\n",
      " 'Norwegian Air UK Ltd' 'Icelandair EHF' 'Thomas Cook Airlines'\n",
      " 'Hong Kong Airlines Limited' 'Finnair' 'TAP Air Portugal' 'WOW Air'\n",
      " 'United Parcel Service CO' 'World Airways' 'Jet Airways'\n",
      " 'Evergreen International Airlines' 'Air Italy S.P.A' 'Republic Airlines'\n",
      " 'El Al Israel Airlines LTD.' 'Virgin America' 'Aeromexico'\n",
      " 'Qatar Airways']\n"
     ]
    }
   ],
   "source": [
    "print(train_df['Operating Airline'].unique())\n",
    "print()\n",
    "print(train_df['Published Airline'].unique())"
   ]
  },
  {
   "cell_type": "code",
   "execution_count": 13,
   "id": "e8db66f5-02f5-439f-ae5e-9ee99986cda0",
   "metadata": {},
   "outputs": [
    {
     "name": "stdout",
     "output_type": "stream",
     "text": [
      "Correlation with Cargo Metric TONS : Operating Airline: -0.04049956827473915\n",
      "Correlation with Cargo Metric TONS : Published Airline: 0.0023500585583753303\n"
     ]
    }
   ],
   "source": [
    "from sklearn.preprocessing import LabelEncoder\n",
    "\n",
    "# Encoding so that we can check the correlation\n",
    "le_operating = LabelEncoder()\n",
    "le_published = LabelEncoder()\n",
    "\n",
    "train_df['Operating Airline Encoded'] = le_operating.fit_transform(train_df['Operating Airline'])\n",
    "train_df['Published Airline Encoded'] = le_published.fit_transform(train_df['Published Airline'])\n",
    "\n",
    "# Apply Spearman's correlation method\n",
    "operating_corr = train_df['Operating Airline Encoded'].corr(train_df['Cargo Metric TONS'], method='spearman')\n",
    "published_corr = train_df['Published Airline Encoded'].corr(train_df['Cargo Metric TONS'], method='spearman')\n",
    "\n",
    "print(f\"Correlation with Cargo Metric TONS : Operating Airline: {operating_corr}\")\n",
    "print(f\"Correlation with Cargo Metric TONS : Published Airline: {published_corr}\")\n",
    "\n",
    "train_df.drop(['Operating Airline Encoded', 'Published Airline Encoded'], axis=1, inplace=True)"
   ]
  },
  {
   "cell_type": "code",
   "execution_count": 14,
   "id": "ea1796e6-3b9d-473e-98eb-f3c095424bc1",
   "metadata": {},
   "outputs": [
    {
     "name": "stdout",
     "output_type": "stream",
     "text": [
      "['SY' 'UA' 'QF' 'PR' 'SQ' 'KZ' 'LH' 'CM' 'AS' 'OZ' 'CX' 'KE' 'NH' 'WN'\n",
      " 'AF' 'BR' 'NW' 'EI' 'TA' 'CZ' 'NZ' 'CA' 'SK' 'MU' 'F9' 'QX' 'EK' 'B6'\n",
      " 'K4' 'JL' 'DL' 'BF' 'AC' '9S' 'CP' 'BA' 'bxr' 'LX' 'EY' 'KL' 'CI' 'HA'\n",
      " 'US' 'AA' 'VS' 'FX' 'A8' 'OO' 'LP' 'YX' 'GB' 'AI' 'WI' 'FI' 'AB' 'IB'\n",
      " 'TZ' 'DY' 'FJ' '5Y' 'ER' 'TK' 'CK' '8C' 'CV' 'KR' '2Q' 'DI' 'MT' 'HX'\n",
      " 'MQ' 'AY' 'TP' 'WW' '5X' 'WO' '9W' 'EZ' 'IG' 'RW' 'LY' 'VX' 'QK' 'AM'\n",
      " 'YV' 'QR' 'XJ']\n",
      "\n",
      "['SY' 'UA' 'QF' 'PR' 'SQ' 'KZ' 'LH' 'CM' 'AS' 'OZ' 'CX' 'KE' 'NH' 'WN'\n",
      " 'AF' 'BR' 'NW' 'EI' 'TA' 'CZ' 'NZ' 'CA' 'SK' 'MU' 'F9' 'EK' 'B6' 'K4'\n",
      " 'JL' 'DL' 'BF' 'AC' '9S' 'AA' 'BA' 'bxr' 'LX' 'EY' 'KL' 'CI' 'HA' 'US'\n",
      " 'VS' 'FX' 'A8' 'LP' 'YX' 'GB' 'AI' 'WI' 'FI' 'AB' 'IB' 'TZ' 'DY' 'FJ'\n",
      " '5Y' 'ER' 'TK' 'CK' '8C' 'CV' 'KR' '2Q' 'DI' 'MT' 'HX' 'AY' 'TP' 'WW'\n",
      " '5X' 'WO' '9W' 'EZ' 'IG' 'RW' 'LY' 'VX' 'AM' 'QR']\n"
     ]
    }
   ],
   "source": [
    "print(train_df['Operating Airline IATA Code'].unique())\n",
    "print()\n",
    "print(train_df['Published Airline IATA Code'].unique())"
   ]
  },
  {
   "cell_type": "code",
   "execution_count": 15,
   "id": "96e461fc-f435-409c-8ccd-b3ad2c65ca85",
   "metadata": {},
   "outputs": [
    {
     "name": "stdout",
     "output_type": "stream",
     "text": [
      "Correlation with Cargo Metric TONS : Operating Airline IATA Code: -0.03603762157166911\n",
      "Correlation with Cargo Metric TONS : Published Airline IATA Code: 0.01943558085210896\n"
     ]
    }
   ],
   "source": [
    "from sklearn.preprocessing import LabelEncoder\n",
    "\n",
    "# Encoding so that I can check the correlation\n",
    "le_operating = LabelEncoder()\n",
    "le_published = LabelEncoder()\n",
    "\n",
    "train_df['Operating Airline IATA Code Encoded'] = le_operating.fit_transform(train_df['Operating Airline IATA Code'])\n",
    "train_df['Published Airline IATA Code Encoded'] = le_published.fit_transform(train_df['Published Airline IATA Code'])\n",
    "\n",
    "# Apply Spearman's correlation method \n",
    "operating_corr = train_df['Operating Airline IATA Code Encoded'].corr(train_df['Cargo Metric TONS'], method='spearman')\n",
    "published_corr = train_df['Published Airline IATA Code Encoded'].corr(train_df['Cargo Metric TONS'], method='spearman')\n",
    "\n",
    "print(f\"Correlation with Cargo Metric TONS : Operating Airline IATA Code: {operating_corr}\")\n",
    "print(f\"Correlation with Cargo Metric TONS : Published Airline IATA Code: {published_corr}\")\n",
    "\n",
    "train_df.drop(['Operating Airline IATA Code Encoded', 'Published Airline IATA Code Encoded'], axis=1, inplace=True)"
   ]
  },
  {
   "cell_type": "markdown",
   "id": "47e1b1e6-6724-4a17-9288-5c133f6596e5",
   "metadata": {},
   "source": [
    "# Findings\n",
    "- All four columns from the dataset show very weak correlations to the target.\n",
    "- With this information I'll remove the weakest correlations in an effort to reduce dimensonality."
   ]
  },
  {
   "cell_type": "code",
   "execution_count": 16,
   "id": "022c2032-e9d3-4cdd-ac5a-f4fd3e52ec7f",
   "metadata": {},
   "outputs": [],
   "source": [
    "train_df.drop(['Published Airline', 'Published Airline IATA Code', 'Activity Period'], axis=1, inplace=True)\n",
    "test_df.drop(['Published Airline', 'Published Airline IATA Code', 'Activity Period'], axis=1, inplace=True)"
   ]
  },
  {
   "cell_type": "code",
   "execution_count": 17,
   "id": "289b640c-fa7d-4f82-ac8c-2fe07a9ae6b8",
   "metadata": {},
   "outputs": [
    {
     "data": {
      "text/plain": [
       "Index(['Operating Airline', 'Operating Airline IATA Code', 'GEO Summary',\n",
       "       'GEO Region', 'Activity Type Code', 'Cargo Type Code',\n",
       "       'Cargo Aircraft Type', 'Cargo Metric TONS', 'Year', 'Month'],\n",
       "      dtype='object')"
      ]
     },
     "execution_count": 17,
     "metadata": {},
     "output_type": "execute_result"
    }
   ],
   "source": [
    "train_df.columns"
   ]
  },
  {
   "cell_type": "code",
   "execution_count": 18,
   "id": "49f0a560-33ef-4791-ad7d-6faf1c7188c3",
   "metadata": {},
   "outputs": [
    {
     "data": {
      "text/plain": [
       "Index(['Operating Airline', 'Operating Airline IATA Code', 'GEO Summary',\n",
       "       'GEO Region', 'Activity Type Code', 'Cargo Type Code',\n",
       "       'Cargo Aircraft Type', 'Year', 'Month'],\n",
       "      dtype='object')"
      ]
     },
     "execution_count": 18,
     "metadata": {},
     "output_type": "execute_result"
    }
   ],
   "source": [
    "test_df.columns"
   ]
  },
  {
   "cell_type": "markdown",
   "id": "e6438604-7a9e-454c-9aa8-cd9c8fa25506",
   "metadata": {},
   "source": [
    "# Feature Engineering: Month\n",
    "- To improve the modeling process we'll augment the Month column into sine and cosine.\n",
    "- This will highlight any cyclical patterns in the dataset"
   ]
  },
  {
   "cell_type": "code",
   "execution_count": 19,
   "id": "981c2817-e829-4b15-a9d3-eac7fae3e0cc",
   "metadata": {},
   "outputs": [
    {
     "data": {
      "text/html": [
       "<div>\n",
       "<style scoped>\n",
       "    .dataframe tbody tr th:only-of-type {\n",
       "        vertical-align: middle;\n",
       "    }\n",
       "\n",
       "    .dataframe tbody tr th {\n",
       "        vertical-align: top;\n",
       "    }\n",
       "\n",
       "    .dataframe thead th {\n",
       "        text-align: right;\n",
       "    }\n",
       "</style>\n",
       "<table border=\"1\" class=\"dataframe\">\n",
       "  <thead>\n",
       "    <tr style=\"text-align: right;\">\n",
       "      <th></th>\n",
       "      <th>Operating Airline</th>\n",
       "      <th>Operating Airline IATA Code</th>\n",
       "      <th>GEO Summary</th>\n",
       "      <th>GEO Region</th>\n",
       "      <th>Activity Type Code</th>\n",
       "      <th>Cargo Type Code</th>\n",
       "      <th>Cargo Aircraft Type</th>\n",
       "      <th>Year</th>\n",
       "      <th>Month_sin</th>\n",
       "      <th>Month_cos</th>\n",
       "      <th>Cargo Metric TONS</th>\n",
       "    </tr>\n",
       "  </thead>\n",
       "  <tbody>\n",
       "    <tr>\n",
       "      <th>0</th>\n",
       "      <td>Sun Country Airlines</td>\n",
       "      <td>SY</td>\n",
       "      <td>Domestic</td>\n",
       "      <td>US</td>\n",
       "      <td>Enplaned</td>\n",
       "      <td>Cargo</td>\n",
       "      <td>Passenger</td>\n",
       "      <td>2016</td>\n",
       "      <td>0.500000</td>\n",
       "      <td>8.660254e-01</td>\n",
       "      <td>8.871509</td>\n",
       "    </tr>\n",
       "    <tr>\n",
       "      <th>1</th>\n",
       "      <td>United Airlines</td>\n",
       "      <td>UA</td>\n",
       "      <td>Domestic</td>\n",
       "      <td>US</td>\n",
       "      <td>Deplaned</td>\n",
       "      <td>Cargo</td>\n",
       "      <td>Passenger</td>\n",
       "      <td>2008</td>\n",
       "      <td>-0.500000</td>\n",
       "      <td>8.660254e-01</td>\n",
       "      <td>53.946194</td>\n",
       "    </tr>\n",
       "    <tr>\n",
       "      <th>2</th>\n",
       "      <td>Qantas Airways</td>\n",
       "      <td>QF</td>\n",
       "      <td>International</td>\n",
       "      <td>Australia / Oceania</td>\n",
       "      <td>Deplaned</td>\n",
       "      <td>Express</td>\n",
       "      <td>Passenger</td>\n",
       "      <td>2007</td>\n",
       "      <td>-1.000000</td>\n",
       "      <td>-1.836970e-16</td>\n",
       "      <td>0.043999</td>\n",
       "    </tr>\n",
       "    <tr>\n",
       "      <th>3</th>\n",
       "      <td>Philippine Airlines</td>\n",
       "      <td>PR</td>\n",
       "      <td>International</td>\n",
       "      <td>Asia</td>\n",
       "      <td>Deplaned</td>\n",
       "      <td>Mail</td>\n",
       "      <td>Passenger</td>\n",
       "      <td>2016</td>\n",
       "      <td>-0.866025</td>\n",
       "      <td>-5.000000e-01</td>\n",
       "      <td>19.023530</td>\n",
       "    </tr>\n",
       "    <tr>\n",
       "      <th>4</th>\n",
       "      <td>Singapore Airlines</td>\n",
       "      <td>SQ</td>\n",
       "      <td>International</td>\n",
       "      <td>Asia</td>\n",
       "      <td>Deplaned</td>\n",
       "      <td>Express</td>\n",
       "      <td>Passenger</td>\n",
       "      <td>2017</td>\n",
       "      <td>-0.866025</td>\n",
       "      <td>-5.000000e-01</td>\n",
       "      <td>6.951420</td>\n",
       "    </tr>\n",
       "  </tbody>\n",
       "</table>\n",
       "</div>"
      ],
      "text/plain": [
       "      Operating Airline Operating Airline IATA Code    GEO Summary  \\\n",
       "0  Sun Country Airlines                          SY       Domestic   \n",
       "1       United Airlines                          UA       Domestic   \n",
       "2        Qantas Airways                          QF  International   \n",
       "3   Philippine Airlines                          PR  International   \n",
       "4    Singapore Airlines                          SQ  International   \n",
       "\n",
       "            GEO Region Activity Type Code Cargo Type Code Cargo Aircraft Type  \\\n",
       "0                   US           Enplaned           Cargo           Passenger   \n",
       "1                   US           Deplaned           Cargo           Passenger   \n",
       "2  Australia / Oceania           Deplaned         Express           Passenger   \n",
       "3                 Asia           Deplaned            Mail           Passenger   \n",
       "4                 Asia           Deplaned         Express           Passenger   \n",
       "\n",
       "   Year  Month_sin     Month_cos  Cargo Metric TONS  \n",
       "0  2016   0.500000  8.660254e-01           8.871509  \n",
       "1  2008  -0.500000  8.660254e-01          53.946194  \n",
       "2  2007  -1.000000 -1.836970e-16           0.043999  \n",
       "3  2016  -0.866025 -5.000000e-01          19.023530  \n",
       "4  2017  -0.866025 -5.000000e-01           6.951420  "
      ]
     },
     "execution_count": 19,
     "metadata": {},
     "output_type": "execute_result"
    }
   ],
   "source": [
    "import numpy as np\n",
    "\n",
    "train_df['Month_sin'] = np.sin(train_df.Month * 2 * np.pi / len(train_df.Month.unique()))\n",
    "train_df['Month_cos'] = np.cos(train_df.Month * 2 * np.pi / len(train_df.Month.unique()))\n",
    "\n",
    "cols = train_df.columns.tolist()\n",
    "cols.remove('Cargo Metric TONS')\n",
    "cols.append('Cargo Metric TONS')\n",
    "\n",
    "train_df = train_df[cols]\n",
    "\n",
    "train_df.drop(['Month'], axis=1, inplace=True)\n",
    "train_df.head()"
   ]
  },
  {
   "cell_type": "code",
   "execution_count": 20,
   "id": "1f4f4475-c1ce-473b-b9eb-7cafd5d134e1",
   "metadata": {},
   "outputs": [
    {
     "data": {
      "text/html": [
       "<div>\n",
       "<style scoped>\n",
       "    .dataframe tbody tr th:only-of-type {\n",
       "        vertical-align: middle;\n",
       "    }\n",
       "\n",
       "    .dataframe tbody tr th {\n",
       "        vertical-align: top;\n",
       "    }\n",
       "\n",
       "    .dataframe thead th {\n",
       "        text-align: right;\n",
       "    }\n",
       "</style>\n",
       "<table border=\"1\" class=\"dataframe\">\n",
       "  <thead>\n",
       "    <tr style=\"text-align: right;\">\n",
       "      <th></th>\n",
       "      <th>Operating Airline</th>\n",
       "      <th>Operating Airline IATA Code</th>\n",
       "      <th>GEO Summary</th>\n",
       "      <th>GEO Region</th>\n",
       "      <th>Activity Type Code</th>\n",
       "      <th>Cargo Type Code</th>\n",
       "      <th>Cargo Aircraft Type</th>\n",
       "      <th>Year</th>\n",
       "      <th>Month_sin</th>\n",
       "      <th>Month_cos</th>\n",
       "    </tr>\n",
       "  </thead>\n",
       "  <tbody>\n",
       "    <tr>\n",
       "      <th>0</th>\n",
       "      <td>United Airlines</td>\n",
       "      <td>UA</td>\n",
       "      <td>Domestic</td>\n",
       "      <td>US</td>\n",
       "      <td>Deplaned</td>\n",
       "      <td>Mail</td>\n",
       "      <td>Passenger</td>\n",
       "      <td>2009</td>\n",
       "      <td>-0.5</td>\n",
       "      <td>-8.660254e-01</td>\n",
       "    </tr>\n",
       "    <tr>\n",
       "      <th>1</th>\n",
       "      <td>Nippon Cargo Airlines</td>\n",
       "      <td>KZ</td>\n",
       "      <td>International</td>\n",
       "      <td>Asia</td>\n",
       "      <td>Deplaned</td>\n",
       "      <td>Cargo</td>\n",
       "      <td>Freighter</td>\n",
       "      <td>2020</td>\n",
       "      <td>0.5</td>\n",
       "      <td>8.660254e-01</td>\n",
       "    </tr>\n",
       "    <tr>\n",
       "      <th>2</th>\n",
       "      <td>China Airlines</td>\n",
       "      <td>CI</td>\n",
       "      <td>International</td>\n",
       "      <td>Asia</td>\n",
       "      <td>Enplaned</td>\n",
       "      <td>Cargo</td>\n",
       "      <td>Passenger</td>\n",
       "      <td>2011</td>\n",
       "      <td>-0.5</td>\n",
       "      <td>-8.660254e-01</td>\n",
       "    </tr>\n",
       "    <tr>\n",
       "      <th>3</th>\n",
       "      <td>China Airlines</td>\n",
       "      <td>CI</td>\n",
       "      <td>International</td>\n",
       "      <td>Asia</td>\n",
       "      <td>Deplaned</td>\n",
       "      <td>Cargo</td>\n",
       "      <td>Passenger</td>\n",
       "      <td>2018</td>\n",
       "      <td>-1.0</td>\n",
       "      <td>-1.836970e-16</td>\n",
       "    </tr>\n",
       "    <tr>\n",
       "      <th>4</th>\n",
       "      <td>China Cargo Airlines</td>\n",
       "      <td>CK</td>\n",
       "      <td>International</td>\n",
       "      <td>Asia</td>\n",
       "      <td>Enplaned</td>\n",
       "      <td>Cargo</td>\n",
       "      <td>Freighter</td>\n",
       "      <td>2008</td>\n",
       "      <td>-0.5</td>\n",
       "      <td>8.660254e-01</td>\n",
       "    </tr>\n",
       "  </tbody>\n",
       "</table>\n",
       "</div>"
      ],
      "text/plain": [
       "       Operating Airline Operating Airline IATA Code    GEO Summary  \\\n",
       "0        United Airlines                          UA       Domestic   \n",
       "1  Nippon Cargo Airlines                          KZ  International   \n",
       "2         China Airlines                          CI  International   \n",
       "3         China Airlines                          CI  International   \n",
       "4   China Cargo Airlines                          CK  International   \n",
       "\n",
       "  GEO Region Activity Type Code Cargo Type Code Cargo Aircraft Type  Year  \\\n",
       "0         US           Deplaned            Mail           Passenger  2009   \n",
       "1       Asia           Deplaned           Cargo           Freighter  2020   \n",
       "2       Asia           Enplaned           Cargo           Passenger  2011   \n",
       "3       Asia           Deplaned           Cargo           Passenger  2018   \n",
       "4       Asia           Enplaned           Cargo           Freighter  2008   \n",
       "\n",
       "   Month_sin     Month_cos  \n",
       "0       -0.5 -8.660254e-01  \n",
       "1        0.5  8.660254e-01  \n",
       "2       -0.5 -8.660254e-01  \n",
       "3       -1.0 -1.836970e-16  \n",
       "4       -0.5  8.660254e-01  "
      ]
     },
     "execution_count": 20,
     "metadata": {},
     "output_type": "execute_result"
    }
   ],
   "source": [
    "test_df['Month_sin'] = np.sin(test_df.Month * 2 * np.pi / len(test_df.Month.unique()))\n",
    "test_df['Month_cos'] = np.cos(test_df.Month * 2 * np.pi / len(test_df.Month.unique()))\n",
    "\n",
    "test_df.drop(['Month'], axis=1, inplace=True)\n",
    "test_df.head()"
   ]
  },
  {
   "cell_type": "markdown",
   "id": "c8c6be48-c417-4144-bba7-1cf7508fba3b",
   "metadata": {},
   "source": [
    "# Ecoding\n",
    "- As previously mentioned we are working with categorical values with no intrinsic ordering.\n",
    "- Thus we will one-hot-encode the strings in our dataset."
   ]
  },
  {
   "cell_type": "code",
   "execution_count": 21,
   "id": "11db238d-d381-4384-946b-59a87e838a66",
   "metadata": {},
   "outputs": [],
   "source": [
    "from sklearn.preprocessing import LabelEncoder\n",
    "\n",
    "label_enc = {}\n",
    "cols_to_enc = ['Operating Airline', 'Operating Airline IATA Code', 'GEO Summary', \n",
    "               'GEO Region', 'Activity Type Code', 'Cargo Type Code', 'Cargo Aircraft Type']\n",
    "\n",
    "label_train_df = train_df.copy()\n",
    "label_test_df = test_df.copy()\n",
    "\n",
    "for col in cols_to_enc:\n",
    "    label_enc[col] = LabelEncoder()\n",
    "    \n",
    "    combined_data = pd.concat([train_df[col], test_df[col]], axis=0).astype(str)\n",
    "    label_enc[col].fit(combined_data)\n",
    "    label_train_df[col] = label_enc[col].transform(train_df[col].astype(str))\n",
    "    \n",
    "    label_test_df[col] = label_enc[col].transform(test_df[col].astype(str))"
   ]
  },
  {
   "cell_type": "code",
   "execution_count": 22,
   "id": "f88e2af0-1fa0-4806-89b7-ef2406888a51",
   "metadata": {},
   "outputs": [],
   "source": [
    "from sklearn.preprocessing import OneHotEncoder\n",
    "\n",
    "one_hot_encoder = OneHotEncoder(sparse_output=False)\n",
    "\n",
    "combined_data = pd.concat([label_train_df[cols_to_enc], label_test_df[cols_to_enc]], axis=0)\n",
    "one_hot_encoder.fit(combined_data)\n",
    "\n",
    "one_hot_encoded_train = one_hot_encoder.transform(label_train_df[cols_to_enc])\n",
    "encoded_train_df = pd.DataFrame(one_hot_encoded_train,\n",
    "                                columns=one_hot_encoder.get_feature_names_out(cols_to_enc),\n",
    "                                index=label_train_df.index)\n",
    "\n",
    "one_hot_encoded_test = one_hot_encoder.transform(label_test_df[cols_to_enc])\n",
    "encoded_test_df = pd.DataFrame(one_hot_encoded_test,\n",
    "                               columns=one_hot_encoder.get_feature_names_out(cols_to_enc),\n",
    "                               index=label_test_df.index)\n",
    "\n",
    "encoded_train_df = pd.concat([label_train_df.drop(cols_to_enc, axis=1), encoded_train_df], axis=1)\n",
    "encoded_test_df = pd.concat([label_test_df.drop(cols_to_enc, axis=1), encoded_test_df], axis=1)"
   ]
  },
  {
   "cell_type": "markdown",
   "id": "0ef077a4-7207-4be3-aa78-b3a4f37ca007",
   "metadata": {},
   "source": [
    "# LinearRegression\n",
    "- Linear Regression is dependent on scale.\n",
    "- This means our one-hot-encoded values could cause issues.\n",
    "- I'll use the label-encoded DataFrame to train."
   ]
  },
  {
   "cell_type": "code",
   "execution_count": 23,
   "id": "7f0a3f8a-6ec8-4c50-814e-e358b5756902",
   "metadata": {},
   "outputs": [
    {
     "name": "stdout",
     "output_type": "stream",
     "text": [
      "LinearRegression RMSE: 383.356598659381\n"
     ]
    }
   ],
   "source": [
    "from sklearn.linear_model import LinearRegression\n",
    "from sklearn.model_selection import train_test_split\n",
    "from sklearn.metrics import mean_squared_error\n",
    "\n",
    "lin_reg = LinearRegression()\n",
    "\n",
    "X = label_train_df.drop('Cargo Metric TONS', axis=1)\n",
    "y = label_train_df['Cargo Metric TONS']\n",
    "\n",
    "X_train, X_test, y_train, y_test = train_test_split(X, y, test_size=0.2)\n",
    "\n",
    "lin_reg.fit(X_train, y_train)\n",
    "lin_mse = mean_squared_error(y_test, lin_reg.predict(X_test))\n",
    "print(f'LinearRegression RMSE: {np.sqrt(lin_mse)}')"
   ]
  },
  {
   "cell_type": "markdown",
   "id": "4e357f1a-1cc5-4884-9f54-7b5686045802",
   "metadata": {},
   "source": [
    "# Lasso\n",
    "- Lasso uses the alpha term to prevent overfitting.\n",
    "- Thus using the one-hot-encoded values should cause adverse effects."
   ]
  },
  {
   "cell_type": "code",
   "execution_count": 24,
   "id": "5bf2ad92-515d-401f-839f-467721134de3",
   "metadata": {},
   "outputs": [
    {
     "name": "stdout",
     "output_type": "stream",
     "text": [
      "Lasso RMSE: 318.9516694422963\n"
     ]
    }
   ],
   "source": [
    "from sklearn.linear_model import Lasso\n",
    "from sklearn.model_selection import GridSearchCV\n",
    "\n",
    "lasso = Lasso(alpha=1)\n",
    "\n",
    "X = encoded_train_df.drop('Cargo Metric TONS', axis=1)\n",
    "y = encoded_train_df['Cargo Metric TONS']\n",
    "\n",
    "X_train, X_test, y_train, y_test = train_test_split(X, y, test_size=0.2)\n",
    "\n",
    "lasso.fit(X_train, y_train)\n",
    "lasso_mse = mean_squared_error(y_test, lasso.predict(X_test))\n",
    "print(f'Lasso RMSE: {np.sqrt(lasso_mse)}')"
   ]
  },
  {
   "cell_type": "markdown",
   "id": "74355594-af60-4ae3-9ea9-48deb748e3b4",
   "metadata": {},
   "source": [
    "# Ridge\n",
    "- Ridge is another regression model that uses alpha to prevent overfitting."
   ]
  },
  {
   "cell_type": "code",
   "execution_count": 25,
   "id": "a95a5aa9-77fe-4837-92cf-b9b93115120c",
   "metadata": {},
   "outputs": [
    {
     "name": "stdout",
     "output_type": "stream",
     "text": [
      "Ridge RMSE: 331.8139156095431\n"
     ]
    }
   ],
   "source": [
    "from sklearn.linear_model import Ridge\n",
    "\n",
    "ridge = Ridge(alpha=1)\n",
    "\n",
    "X = encoded_train_df.drop('Cargo Metric TONS', axis=1)\n",
    "y = encoded_train_df['Cargo Metric TONS']\n",
    "\n",
    "X_train, X_test, y_train, y_test = train_test_split(X, y, test_size=0.2)\n",
    "\n",
    "ridge.fit(X_train, y_train)\n",
    "ridge_mse = mean_squared_error(y_test, ridge.predict(X_test))\n",
    "print(f'Ridge RMSE: {np.sqrt(ridge_mse)}')"
   ]
  },
  {
   "cell_type": "markdown",
   "id": "48debf6b-21c9-4d13-9b6d-26ed6ebd9e88",
   "metadata": {},
   "source": [
    "# CART\n",
    "- CART decision trees handle outlines well.\n",
    "- This has been one of my most consistent models."
   ]
  },
  {
   "cell_type": "code",
   "execution_count": 26,
   "id": "5a05e32e-a0a9-46da-8d3a-fbe3be706734",
   "metadata": {},
   "outputs": [
    {
     "name": "stdout",
     "output_type": "stream",
     "text": [
      "CART RMSE: 190.45832351973925\n"
     ]
    }
   ],
   "source": [
    "from sklearn.tree import DecisionTreeRegressor\n",
    "\n",
    "dt_reg = DecisionTreeRegressor(criterion='friedman_mse',\n",
    "                               max_depth=10,\n",
    "                               min_samples_leaf=2,\n",
    "                               min_samples_split=15)\n",
    "\n",
    "X = encoded_train_df.drop('Cargo Metric TONS', axis=1)\n",
    "y = encoded_train_df['Cargo Metric TONS']\n",
    "\n",
    "X_train, X_test, y_train, y_test = train_test_split(X, y, test_size=0.2)\n",
    "\n",
    "dt_reg.fit(X_train, y_train)\n",
    "\n",
    "dt_mse = mean_squared_error(y_test, dt_reg.predict(X_test))\n",
    "print(f'CART RMSE: {np.sqrt(dt_mse)}')"
   ]
  },
  {
   "cell_type": "markdown",
   "id": "3a0fd8cb-60b1-49b4-99b7-5590cf32adac",
   "metadata": {},
   "source": [
    "# XGBoost\n",
    "- Because we one-hot-encoded two columns xgb is an ideal model beacuse of how well it works on large ds.\n",
    "- Since this Data Challenge is one envolving a regression, xgb's gradient boosting framework is ideal."
   ]
  },
  {
   "cell_type": "code",
   "execution_count": 27,
   "id": "3cf70072-8c9a-4e7f-8ae5-c8f52e5a022e",
   "metadata": {},
   "outputs": [
    {
     "name": "stdout",
     "output_type": "stream",
     "text": [
      "XGBoost RMSE: 193.4169174859524\n"
     ]
    }
   ],
   "source": [
    "import xgboost as xgb\n",
    "\n",
    "xg_reg = xgb.XGBRegressor(colsample_bytree = 0.814, \n",
    "                          learning_rate = 0.049,\n",
    "                          max_depth = 9,  \n",
    "                          n_estimators = 293,\n",
    "                          n_jobs=-1,\n",
    "                          reg_lambda=3,\n",
    "                          reg_alpha=1)\n",
    "\n",
    "X = encoded_train_df.drop('Cargo Metric TONS', axis=1)\n",
    "y = encoded_train_df['Cargo Metric TONS']\n",
    "\n",
    "X_train, X_test, y_train, y_test = train_test_split(X, y, test_size=0.2)\n",
    "\n",
    "xg_reg.fit(X_train, y_train)\n",
    "xg_mse = mean_squared_error(y_test, xg_reg.predict(X_test))\n",
    "print(f'XGBoost RMSE: {np.sqrt(xg_mse)}')"
   ]
  },
  {
   "cell_type": "markdown",
   "id": "5c75d245-3ead-4622-90a3-4c7338105380",
   "metadata": {},
   "source": [
    "# RandomForest"
   ]
  },
  {
   "cell_type": "code",
   "execution_count": 28,
   "id": "2aa0f52f-8b64-45f8-80b4-0f4d6a35d2f7",
   "metadata": {},
   "outputs": [
    {
     "name": "stdout",
     "output_type": "stream",
     "text": [
      "Random Forest RMSE: 167.24325656258398\n"
     ]
    }
   ],
   "source": [
    "from sklearn.ensemble import RandomForestRegressor\n",
    "\n",
    "rf_reg = RandomForestRegressor(max_depth=30,\n",
    "                               n_estimators=50,\n",
    "                               n_jobs=-1,\n",
    "                               min_samples_leaf=4)\n",
    "\n",
    "X = encoded_train_df.drop('Cargo Metric TONS', axis=1)\n",
    "y = encoded_train_df['Cargo Metric TONS']\n",
    "\n",
    "X_train, X_test, y_train, y_test = train_test_split(X, y, test_size=0.2)\n",
    "\n",
    "rf_reg.fit(X_train, y_train)\n",
    "rf_mse = mean_squared_error(y_test, rf_reg.predict(X_test))\n",
    "print(f'Random Forest RMSE: {np.sqrt(rf_mse)}')"
   ]
  },
  {
   "cell_type": "markdown",
   "id": "e1967857-3a61-4c3a-a490-99332b86d365",
   "metadata": {},
   "source": [
    "# Choosing a model : RandomForest\n",
    "- Since hyperparameter tuning RandomForest and XGBoost they have produced very similar RMSE scores.\n",
    "- I was going to use k-fold to compare the performace of the two one last time but have decided against it.\n",
    "- LinearRegression, Lasso, and Ridge are all linear models.\n",
    "- Because all three of those models preformed the worst it suggest that either non-linearity or high dimensionality came into play.\n",
    "- As for why RandomForest bested XGBoost I'm not sure.\n",
    "- RandomForest's may have pickup up on the seasonal features of the engineered Month columns better than XGBoost."
   ]
  },
  {
   "cell_type": "code",
   "execution_count": 30,
   "id": "42b65609-215c-40bc-a66f-bf1e389e02bf",
   "metadata": {},
   "outputs": [],
   "source": [
    "X = encoded_test_df\n",
    "y_target_col = rf_reg.predict(X)\n",
    "y_target_col_df = pd.DataFrame({'Cargo Metric TONS': y_target_col})\n",
    "y_target_col_df.to_csv('dc1.csv', index=False)"
   ]
  }
 ],
 "metadata": {
  "kernelspec": {
   "display_name": "Python 3 (ipykernel)",
   "language": "python",
   "name": "python3"
  },
  "language_info": {
   "codemirror_mode": {
    "name": "ipython",
    "version": 3
   },
   "file_extension": ".py",
   "mimetype": "text/x-python",
   "name": "python",
   "nbconvert_exporter": "python",
   "pygments_lexer": "ipython3",
   "version": "3.11.4"
  }
 },
 "nbformat": 4,
 "nbformat_minor": 5
}
